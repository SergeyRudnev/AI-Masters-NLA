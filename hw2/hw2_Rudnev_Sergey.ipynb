{
 "cells": [
  {
   "cell_type": "markdown",
   "metadata": {},
   "source": [
    "# Домашнее задание 2 (30 + 20 + 25 + 30 = 105 pts )"
   ]
  },
  {
   "cell_type": "markdown",
   "metadata": {},
   "source": [
    "## Задача 1 (30 pts)\n",
    "\n",
    "- (5 pts) Докажите, что $\\mathrm{vec}(AXB) = (B^\\top \\otimes A)\\, \\mathrm{vec}(X)$, если $\\mathrm{vec}(X)$ векторизация матрицы по столбцам. Что и почему изменится, если использовать векторизацию по строкам? \n",
    "\n",
    "- (2 pts) Какова сложность наивного вычисления $(A \\otimes B) x$ и почему она такова? Покажите, как она может быть снижена.\n",
    "\n",
    "- (3 pts) Пусть матрицы $A$ и $B$ имеют спектральные разложения $A = S_A\\Lambda_A S_A^{-1}$ и $B = S_B\\Lambda_B S^{-1}_B$. Найдите собственные векторы и собственные значения у матрицы $A\\otimes I + I \\otimes B$.\n",
    "\n",
    "- (10 pts) Пусть $A = \\mathrm{diag}\\left(\\frac{2}{1000},\\frac{3}{1000},\\dots \\frac{999}{1000}, 1, 1000 \\right)$. Оцените аналитически число итераций необходимых для решения линейной системы с матрицей $A$ с относительной точностью $10^{-5}$ используя\n",
    "    - метод Ричардсона с оптимальным параметром (используйте евклидову норму)\n",
    "    - метод Чебышёва (используйте евклидову норму)\n",
    "    - метод сопряжённых градиентов (используйте $A$-норму).\n",
    "    \n",
    "и сравните вашу оценку с экспериментальными результатами.\n",
    "\n",
    "- (5 pts) Рассмотрим систему линейных уравнений вида $(I + uu^{\\top})x = b$, $u \\neq 0$. За сколько итераций сойдётся метод сопряжённых градиентов для этой системы? Получите ответ аналитически, псле чего приведите экспериментальное подтверждение его правильности.\n",
    "\n",
    "- (5 pts) Покажите, как связан детерминант матрицы\n",
    "$$\n",
    "\\begin{bmatrix}\n",
    "x & 1 & 0 & \\ldots & 0\\\\\n",
    "1 & 2x & 1 & \\ldots & 0 \\\\\n",
    "\\vdots & \\vdots & \\vdots & \\vdots & \\vdots \\\\\n",
    "0 & 0 & \\ldots & 2x & 1 \\\\\n",
    "0 & 0 & \\ldots & 1 & 2x\n",
    "\\end{bmatrix}\n",
    "$$\n",
    "\n",
    "с полиномом Чебышёва степени $n$"
   ]
  },
  {
   "cell_type": "markdown",
   "metadata": {},
   "source": [
    "# Решение:"
   ]
  },
  {
   "cell_type": "markdown",
   "metadata": {},
   "source": [
    "- (5 pts) Докажите, что $\\mathrm{vec}(AXB) = (B^\\top \\otimes A)\\, \\mathrm{vec}(X)$, если $\\mathrm{vec}(X)$ векторизация матрицы по столбцам. Что и почему изменится, если использовать векторизацию по строкам? "
   ]
  },
  {
   "cell_type": "markdown",
   "metadata": {},
   "source": [
    "$\\mathrm{vec}(X)$ - оператор векторизации матрицы по столбцам. Так как он линеен, а $(B^\\top \\otimes A)$ - Кронекерово произведение матриц $B^\\top$ и $A$, то есть матрица \n",
    "$\\begin{bmatrix}b_{11}A & \\dots & b_{m1}A \\\\ \\vdots & \\ddots & \\vdots \\\\ b_{1n}A & \\dots & b_{mn}A\\end{bmatrix}\\in\\mathbb{R}^{nl\\times mk}$ для $B\\in\\mathbb{R}^{m\\times n}$ и $A\\in\\mathbb{R}^{l\\times k}$,\n",
    "то линейны и операторы $\\mathrm{vec}(AXB)$ и $(B^\\top \\otimes A)\\, \\mathrm{vec}(X)$ ,\n",
    "поэтому достаточно доказать исходное равенство для базисного элемента в пространстве $\\mathbb{R}^{k\\times m}$, то есть для матрицы $E_{ij}$, у которой в $i$-ой строчке и $j$-ом столбце стоит $1$, а остальные $0$.\n",
    "\n",
    "По определению Кронекеровое произведение векторов $x\\in \\mathbb{R}^k, y\\in \\mathbb{R}^m$ есть вектор $x\\otimes y \\in \\mathbb{R}^{km}$, состовленный из последовательных попарных произведений элементов вектора $x$ на элементы вектора $y$. Что есть то же самое, что $\\mathrm{vec}\\Big(\\begin{bmatrix}x_{1}y_1 & \\dots & x_{k}y_1 \\\\ \\vdots & \\ddots & \\vdots \\\\ x_1y_m & \\dots & x_{k}y_m\\end{bmatrix}\\Big) = \\mathrm{vec}(yx^\\top)$\n",
    "\n",
    "Тогда ещё в силу того факта, что $E_{ij}$ можно представить в виде $e_ie_j^\\top$ получим:\n",
    "\n",
    "$$ \\mathrm{vec}(E_{ij}) = \\mathrm{vec}(e_ie_j^\\top) = e_j \\otimes e_i$$\n",
    "\n",
    "В силу такого свойства Кронекерово произведения, что $(A\\otimes B) (C\\otimes D) = AC \\otimes BD$ получим:\n",
    "\n",
    "$$\\mathrm{vec}(AE_{ij}B) = \\mathrm{vec}(Ae_ie_j^\\top B)=\\mathrm{vec}(Ae_i(B^\\top e_j)^\\top ) = B^\\top e_j \\otimes Ae_i=(B^\\top \\otimes A)  (e_j \\otimes e_i)=(B^\\top \\otimes A) \\mathrm{vec}(E_{ij})$$\n",
    "\n",
    "Для получения формулы для векторизации по строчкам заметим, что $\\mathrm{vec}^*(xy^\\top) = \\mathrm{vec(yx^\\top)}=x\\otimes y$. Отсюда\n",
    "\n",
    "$$\\mathrm{vec}^*(AE_{ij}B)=\\mathrm{vec}^*(Ae_i(B^\\top e_j)^\\top )= Ae_i \\otimes B^\\top e_j = (A \\otimes B^\\top)(e_i \\otimes e_j)=(A \\otimes B^\\top)\\mathrm{vec}^*(e_ie_j^\\top)=(A \\otimes B^\\top)\\mathrm{vec}^*(E_{ij})$$\n",
    "\n",
    "Следовательно, $$\\mathrm{vec}^*(AXB)=(A \\otimes B^\\top)\\mathrm{vec}^*(X)$$"
   ]
  },
  {
   "cell_type": "markdown",
   "metadata": {},
   "source": [
    "- (2 pts) Какова сложность наивного вычисления $(A \\otimes B) x$ и почему она такова? Покажите, как она может быть снижена."
   ]
  },
  {
   "cell_type": "markdown",
   "metadata": {},
   "source": [
    "Для матриц $A\\in\\mathbb{R}^{n\\times m}$ и $B\\in\\mathbb{R}^{l\\times k}$ Кронекерово произведение определяется как блочная матрица следующего вида\n",
    "\n",
    "$$\n",
    "   A\\otimes B = \\begin{bmatrix}a_{11}B & \\dots & a_{1m}B \\\\ \\vdots & \\ddots & \\vdots \\\\ a_{n1}B & \\dots & a_{nm}B\\end{bmatrix}\\in\\mathbb{R}^{nl\\times mk}.\n",
    "$$\n",
    "\n",
    "То есть для вычисления $A\\otimes B$ потребуется $nm$ раз умножить матрицу $B$ на число, каждое умножение потребует $lk$ операций, поэтому сложность вычисления $A\\otimes B$ будет $O(nmlk)$. Затем нужно будет каждую строчку матрицы $A\\otimes B$ умножить на вектор $x\\in \\mathbb{R}^{mk}$, то есть потребуется ещё $O(nmlk)$ операций. Тогда общая сложность будет $O(nmlk)$.\n",
    "\n",
    "Для снижения сложности воспользуемся доказанным в предыдущем пункте утверждением. Вектор $x$ можно считать векторизацией по столбцам матрицы $X\\in \\mathbb{R}^{k\\times m}$, тогда\n",
    "\n",
    "$(A \\otimes B) x = (A \\otimes B)\\mathrm{vec}(X)=\\mathrm{vec}(BXA^\\top)$. Для вычисления $BXA^\\top$ потребуется $lkm +lmn=lm(k+n)$ умножений и $l(k-1)m+l(m-1)n$ сложений.Таким образом, сложность вычисления $\\mathrm{vec}(BXA^\\top)$ будет $O(lm(k+n)),$ так как векторизация даже с учётом заполнения нового вектора потребует меньше операций."
   ]
  },
  {
   "cell_type": "markdown",
   "metadata": {},
   "source": [
    "- (3 pts) Пусть матрицы $A$ и $B$ имеют спектральные разложения $A = S_A\\Lambda_A S_A^{-1}$ и $B = S_B\\Lambda_B S^{-1}_B$. Найдите собственные векторы и собственные значения у матрицы $A\\otimes I + I \\otimes B$."
   ]
  },
  {
   "cell_type": "markdown",
   "metadata": {},
   "source": [
    "Воспользуемся предоставленными спектральными разложениями,свойствами Кронекерового произведения, ассоциативностью и дистрибутивностью матричного умножения.\n",
    "\n",
    "$$A\\otimes I + I \\otimes B = S_A\\Lambda_A S_A^{-1}\\otimes I + I \\otimes S_B\\Lambda_B S^{-1}_B = S_A\\Lambda_A S_A^{-1}\\otimes S_BS^{-1}_B + S_AS_A^{-1}\\otimes S_B\\Lambda_B S^{-1}_B = (S_A \\otimes S_B)(\\Lambda_A S_A^{-1}\\otimes S^{-1}_B) +  (S_A \\otimes S_B)(S_A^{-1}\\otimes \\Lambda_B S^{-1}_B) = (S_A \\otimes S_B)(\\Lambda_A S_A^{-1}\\otimes I S^{-1}_B) +  (S_A \\otimes S_B)(IS_A^{-1}\\otimes \\Lambda_B S^{-1}_B) = (S_A \\otimes S_B)(\\Lambda_A \\otimes I)(S_A^{-1}\\otimes S^{-1}_B)  +  (S_A \\otimes S_B)(I \\otimes \\Lambda_B)(S_A^{-1} \\otimes S^{-1}_B)=(S_A \\otimes S_B)(\\Lambda_A \\otimes I+I \\otimes \\Lambda_B)(S_A^{-1} \\otimes S^{-1}_B) = (S_A \\otimes S_B)(\\Lambda_A \\otimes I+I \\otimes \\Lambda_B)(S_A \\otimes S_B)^{-1} $$\n",
    "\n",
    "$\\Lambda_A \\otimes I = \\begin{bmatrix}\\lambda_{1}(A) I & \\dots & 0I \\\\ \\vdots & \\ddots & \\vdots \\\\ 0I & \\dots & \\lambda_{n}(A)I\\end{bmatrix} =  \n",
    "\\begin{bmatrix}\\lambda_{1}(A) & \\dots & 0 &\\dots & 0 &\\dots & 0\\\\\n",
    "\\vdots & \\ddots & \\vdots & \\ddots & \\vdots & \\ddots & \\vdots\\\\\n",
    "0 & \\dots & \\lambda_{1}(A) &\\dots & 0 &\\dots & 0\\\\\n",
    "\\vdots & \\ddots & \\vdots & \\ddots & \\vdots & \\ddots & \\vdots\\\\\n",
    "0 & \\dots & 0 & \\dots & \\lambda_{n}(A) &\\dots & 0\\\\\n",
    "\\vdots & \\ddots & \\vdots & \\ddots & \\vdots & \\ddots & \\vdots\\\\\n",
    "0 & \\dots & 0 & \\dots & 0 &\\dots &\\lambda_{n}(A)\\\\\n",
    "\\end{bmatrix}$\n",
    "\n",
    "$I\\otimes \\Lambda_B = \\begin{bmatrix}\n",
    "1\\Lambda_B & \\dots & 0\\Lambda_B \\\\\n",
    "\\vdots & \\ddots & \\vdots \\\\\n",
    "0\\Lambda_B & \\dots & 1\\Lambda_B\\end{bmatrix}=\n",
    "\\begin{bmatrix}\\lambda_{1}(B) & \\dots & 0 &\\dots & 0 &\\dots & 0\\\\\n",
    "\\vdots & \\ddots & \\vdots & \\ddots & \\vdots & \\ddots & \\vdots\\\\\n",
    "0 & \\dots & \\lambda_{n}(B) &\\dots & 0 &\\dots & 0\\\\\n",
    "\\vdots & \\ddots & \\vdots & \\ddots & \\vdots & \\ddots & \\vdots\\\\\n",
    "0 & \\dots & 0 & \\dots & \\lambda_{1}(B) &\\dots & 0\\\\\n",
    "\\vdots & \\ddots & \\vdots & \\ddots & \\vdots & \\ddots & \\vdots\\\\\n",
    "0 & \\dots & 0 & \\dots & 0 &\\dots &\\lambda_{n}(B)\\\\\n",
    "\\end{bmatrix}$\n",
    "\n",
    "Получили спектральное разложение матрицы $A\\otimes I + I \\otimes B$. Таким образом, собственные значения матрицы $A\\otimes I + I \\otimes B$ есть все возможные попарные суммы собственных значений матриц $A$ и $B$. То есть всего $n^2$ собственных значений. Собственные векторы - столбцы матрицы $S_A \\otimes S_B.$"
   ]
  },
  {
   "cell_type": "markdown",
   "metadata": {},
   "source": [
    "- (10 pts) Пусть $A = \\mathrm{diag}\\left(\\frac{2}{1000},\\frac{3}{1000},\\dots \\frac{999}{1000}, 1, 1000 \\right)$. Оцените аналитически число итераций необходимых для решения линейной системы с матрицей $A$ с относительной точностью $10^{-5}$ используя\n",
    "    - метод Ричардсона с оптимальным параметром (используйте евклидову норму)\n",
    "    - метод Чебышёва (используйте евклидову норму)\n",
    "    - метод сопряжённых градиентов (используйте $A$-норму).\n",
    "    \n",
    "и сравните вашу оценку с экспериментальными результатами."
   ]
  },
  {
   "cell_type": "markdown",
   "metadata": {},
   "source": [
    "Заметим, что $A = A^* > 0$"
   ]
  },
  {
   "cell_type": "markdown",
   "metadata": {},
   "source": [
    "Тогда для одношагового метода Ричардсона с учётом выбора оптимального параметра $\\tau$ $$x_{k+1} = x_k - \\tau (Ax_k - f)$$ \n",
    "$$\\tau_\\mathrm{opt} = \\frac{2}{\\lambda_{\\min} + \\lambda_{\\max}}$$"
   ]
  },
  {
   "cell_type": "markdown",
   "metadata": {},
   "source": [
    "$$ \\|e_k\\|_2 \\leq q^{k} \\|e_0\\|_2$$"
   ]
  },
  {
   "cell_type": "markdown",
   "metadata": {},
   "source": [
    "$$ q = \\frac{\\lambda_{\\max} - \\lambda_{\\min}}{\\lambda_{\\max} + \\lambda_{\\min}}= \\frac{\\mathrm{cond}(A) - 1}{\\mathrm{cond}(A)+1}$$"
   ]
  },
  {
   "cell_type": "markdown",
   "metadata": {},
   "source": [
    "Для данной матрицы $A\\quad$ $\\lambda_{\\max} = 1000,\\quad \\lambda_{\\min} = 0.002$. Следовательно, $q=\\frac{1000-0.002}{1000+0.002}$"
   ]
  },
  {
   "cell_type": "markdown",
   "metadata": {},
   "source": [
    "Относительная точность по условию $ \\frac{\\|e_k\\|_2 }{\\|e_0\\|_2} \\leq q^{k}\\le 10^{-5} $"
   ]
  },
  {
   "cell_type": "markdown",
   "metadata": {},
   "source": [
    "Отсюда $k \\ge \\frac{-5}{\\log q}\\approx 2.9 * 10^{6}$"
   ]
  },
  {
   "cell_type": "code",
   "execution_count": 7,
   "metadata": {},
   "outputs": [],
   "source": [
    "import numpy as np\n",
    "import scipy as sp\n",
    "import scipy.sparse as spsp\n",
    "import matplotlib.pyplot as plt"
   ]
  },
  {
   "cell_type": "code",
   "execution_count": 10,
   "metadata": {},
   "outputs": [],
   "source": [
    "A = np.arange(2, 1002) / 1000\n",
    "A[-1] = 1000\n",
    "A = spsp.diags(A)\n",
    "lambda_max = 1000\n",
    "lambda_min = 0.002"
   ]
  },
  {
   "cell_type": "code",
   "execution_count": 11,
   "metadata": {},
   "outputs": [
    {
     "name": "stdout",
     "output_type": "stream",
     "text": [
      "Wall time: 1min 29s\n"
     ]
    }
   ],
   "source": [
    "%%time\n",
    "\n",
    "tau = 2 / (lambda_max + lambda_min)\n",
    "q = (lambda_max - lambda_min) / (lambda_max + lambda_min)\n",
    "x_true = np.random.random(1000)\n",
    "b = A.dot(x_true)\n",
    "x = np.zeros(1000)\n",
    "mistake_0 = np.linalg.norm(x - x_true)\n",
    "relative_mistake = 1\n",
    "norm_nevyazka_richardson = []\n",
    "while (relative_mistake > 1e-05):\n",
    "    nevyazka = A.dot(x) - b\n",
    "    norm_nevyazka_richardson.append(np.linalg.norm(nevyazka))\n",
    "    x -= tau * nevyazka\n",
    "    relative_mistake = np.linalg.norm(x - x_true) / mistake_0"
   ]
  },
  {
   "cell_type": "code",
   "execution_count": 12,
   "metadata": {},
   "outputs": [
    {
     "data": {
      "text/plain": [
       "2169621"
      ]
     },
     "execution_count": 12,
     "metadata": {},
     "output_type": "execute_result"
    }
   ],
   "source": [
    "len(norm_nevyazka_richardson)"
   ]
  },
  {
   "cell_type": "markdown",
   "metadata": {},
   "source": [
    "Сошёлся быстрее, но оценка на точность была сверху, так что всё в порядке"
   ]
  },
  {
   "cell_type": "markdown",
   "metadata": {},
   "source": [
    "Применим метод Чебышёва, то есть оптимальный циклический итерационный метод, так как $A = A^* > 0$. То есть в формуле простой итерации $\\tau = \\tau_{k+1},\\ \\tau_k=\\tau_{k+N}$. Оптимальные значения для $\\tau_1,...,\\tau_N$ - обратные величины к корням многочлена Чебышёва степени $N$, масштабированным из $[-1,1]$ в $[\\lambda_\\min, \\lambda_\\max]$, то есть\n",
    "$$\\tau_k = \\frac{2}{\\lambda_\\max + \\lambda_\\min + (\\lambda_\\max - \\lambda_\\min)x_k}, \\quad x_k = \\cos \\frac{\\pi(2k - 1)}{2N}\\quad k=1,\\dots,N$$"
   ]
  },
  {
   "cell_type": "markdown",
   "metadata": {},
   "source": [
    "Для этого метода в силу свойств многочленов Чебышёва верна оценка\n",
    "$$ \\|e_N\\|_2 \\leq \\frac{2 q_1^N}{1+q_1^{2N}} \\|e_0\\|_2, \\quad q_1 = \\frac{\\sqrt{\\mathrm{cond}(A)}-1}{\\sqrt{\\mathrm{cond}(A)}+1}, $$"
   ]
  },
  {
   "cell_type": "markdown",
   "metadata": {},
   "source": [
    "Что лучше, чем у метода Ричардсона с оптимальным $\\tau$"
   ]
  },
  {
   "cell_type": "markdown",
   "metadata": {},
   "source": [
    "Таким образом, считая для простоты, что $k=pN$.Это сильно не повлияет на оценку числа итераций для небольшого $N$.\n",
    "$$ \\|e_k\\|_2 = \\|e_{pN}\\|_2 \\leq \\Big(\\frac{2 q_1^N}{1+q_1^{2N}}\\Big)^p \\|e_0\\|_2 = \\Big(\\frac{2 q_1^N}{1+q_1^{2N}}\\Big)^p \\|e_0\\|_2$$"
   ]
  },
  {
   "cell_type": "markdown",
   "metadata": {},
   "source": [
    "$$ \\frac{\\|e_k\\|_2}  {\\|e_0\\|_2} \\le C q_1^k \\le 10^{-5},\\ \\textit{где}\\ C=\\Big(\\frac{2}{1+q_1^{2N}}\\Big)^p$$"
   ]
  },
  {
   "cell_type": "markdown",
   "metadata": {},
   "source": [
    "Отсюда $$k\\log q_1 + \\frac{K}{N}\\log \\frac{2}{1+q_1^{2N}} \\ge -5$$\n",
    "$$k\\ge \\frac{-5}{\\log q_1 + \\frac{1}{N}\\log \\frac{2}{1+q_1^{2N}}}\\approx 4.5 * 10^4\\textit{ для}\\ N = 64$$"
   ]
  },
  {
   "cell_type": "code",
   "execution_count": 20,
   "metadata": {},
   "outputs": [],
   "source": [
    "# Корни ещё нужно расставить в правильном порядке\n",
    "# Также чтобы не пропала оптимальность, N должно быть стопенью 2\n",
    "N = 64\n",
    "def leb_shuffle_2n(n):\n",
    "    if n == 1:\n",
    "        return np.array([0,], dtype=int)\n",
    "    else:\n",
    "        prev = leb_shuffle_2n(n // 2)\n",
    "        ans = np.zeros(n, dtype=int)\n",
    "        ans[::2] = prev\n",
    "        ans[1::2] = n - 1 - prev\n",
    "        return ans\n",
    "\n",
    "good_perm_even = leb_shuffle_2n(N)\n",
    "\n",
    "roots = [np.cos((np.pi * (2 * i + 1)) / (2 * N)) for i in range(N)]\n",
    "taus = [2 / (lambda_max + lambda_min + (lambda_max - lambda_min) * r)  for r in roots]"
   ]
  },
  {
   "cell_type": "code",
   "execution_count": 21,
   "metadata": {},
   "outputs": [
    {
     "name": "stdout",
     "output_type": "stream",
     "text": [
      "Wall time: 1.56 s\n"
     ]
    }
   ],
   "source": [
    "%%time\n",
    "\n",
    "x = np.zeros(1000)\n",
    "relative_mistake = 1\n",
    "norm_nevyazka_chebushev = []\n",
    "while (relative_mistake > 1e-05):\n",
    "    for i in range(N):\n",
    "        nevyazka = A.dot(x) - b\n",
    "        norm_nevyazka_chebushev.append(np.linalg.norm(nevyazka))\n",
    "        x -=  taus[good_perm_even[i]] * nevyazka\n",
    "        relative_mistake = np.linalg.norm(x - x_true) / mistake_0"
   ]
  },
  {
   "cell_type": "code",
   "execution_count": 22,
   "metadata": {},
   "outputs": [
    {
     "data": {
      "text/plain": [
       "38464"
      ]
     },
     "execution_count": 22,
     "metadata": {},
     "output_type": "execute_result"
    }
   ],
   "source": [
    "len(norm_nevyazka_chebushev)"
   ]
  },
  {
   "cell_type": "markdown",
   "metadata": {},
   "source": [
    "Снова получили число итераций, немного меньшее заказанного, но оценка на тончость была сверху, поэтому всё в порядке"
   ]
  },
  {
   "cell_type": "markdown",
   "metadata": {},
   "source": [
    "Для метода сопряжённых градиентов совершенно аналогично методу Чебышёва, но уже для A-нормы можно получить оценку"
   ]
  },
  {
   "cell_type": "markdown",
   "metadata": {},
   "source": [
    "$$\\frac{\\Vert e_k \\Vert_A }{\\Vert e_0 \\Vert_A} \\leq \\frac{2 q_1^k}{1+q_1^{2k}}\\le 2 q_1^k, \\quad q_1 = \\frac{\\sqrt{\\mathrm{cond}(A)}-1}{\\sqrt{\\mathrm{cond}(A)}+1}$$"
   ]
  },
  {
   "cell_type": "markdown",
   "metadata": {},
   "source": [
    "Однако известно, что если собственные значения кластеризованы и имеется $l$ выбросов, тогда после первых $\\mathcal{O}(l)$ итераций CG сойдётся как будто этих выбросов не было (следовательно, эффективное число обусловленности меньше). А у нас как раз имеет выбром lambda_max = 1000, так что можем считать, что lambda_max = 1."
   ]
  },
  {
   "cell_type": "markdown",
   "metadata": {},
   "source": [
    "Отсюда получаем, что $$\\frac{\\Vert e_k \\Vert_A }{\\Vert e_0 \\Vert_A} \\leq 2 q_1^k\\le 10^{-5},\\  q_1=\\frac{\\sqrt{\\mathrm{cond}(\\tilde A)}-1}{\\sqrt{\\mathrm{cond}(\\tilde A)}+1}=\\frac{\\sqrt{500}-1}{\\sqrt{500}+1}$$\n",
    "$$k\\ge \\frac{-5-\\log 2}{\\log q_1}\\approx 1.36 * 10^2$$"
   ]
  },
  {
   "cell_type": "code",
   "execution_count": 73,
   "metadata": {},
   "outputs": [
    {
     "name": "stdout",
     "output_type": "stream",
     "text": [
      "Wall time: 19.9 ms\n"
     ]
    }
   ],
   "source": [
    "%%time\n",
    "\n",
    "x = np.zeros(1000)\n",
    "relative_mistake = 1\n",
    "r_i = b - A.dot(x)\n",
    "p_i = b - A.dot(x)\n",
    "norm_nevyazka_sopr_grad = [np.linalg.norm(r_i)]\n",
    "while (relative_mistake > 1e-05):   \n",
    "    alpha = (r_i @ p_i) / (A.dot(p_i) @ p_i)\n",
    "    x += alpha * p_i\n",
    "    r_i1 = b - A.dot(x)\n",
    "    beta = -(r_i1 @ A.dot(p_i)) / (A.dot(p_i) @ r_i)\n",
    "    p_i1 = r_i1 + beta * p_i\n",
    "    r_i = r_i1\n",
    "    p_i = p_i1\n",
    "    norm_nevyazka_sopr_grad.append(np.linalg.norm(r_i))\n",
    "    relative_mistake = np.linalg.norm(x - x_true) / mistake_0"
   ]
  },
  {
   "cell_type": "code",
   "execution_count": 74,
   "metadata": {},
   "outputs": [
    {
     "data": {
      "text/plain": [
       "140"
      ]
     },
     "execution_count": 74,
     "metadata": {},
     "output_type": "execute_result"
    }
   ],
   "source": [
    "len(norm_nevyazka_sopr_grad)"
   ]
  },
  {
   "cell_type": "markdown",
   "metadata": {},
   "source": [
    "Так как сначала алгоритм должен был избавиться от выбросов, то считаем, что количество итераций именно такое, как и предполагалось"
   ]
  },
  {
   "cell_type": "markdown",
   "metadata": {},
   "source": [
    "- (5 pts) Рассмотрим систему линейных уравнений вида $(I + uu^{\\top})x = b$, $u \\neq 0$. За сколько итераций сойдётся метод сопряжённых градиентов для этой системы? Получите ответ аналитически, псле чего приведите экспериментальное подтверждение его правильности."
   ]
  },
  {
   "cell_type": "markdown",
   "metadata": {},
   "source": [
    "Матрица $A:=(I + uu^{\\top})$ имеет в качетсве собственных значений $n-1$ единицу и $1+(u,u)$. Это следует из явного вида характеристического многочлена. Доказывается просто по индукции. База для $n=2$ очевидна. А при доказательстве шага раскрываем определитель по первой строчке и пользуемся предположением индукции."
   ]
  },
  {
   "cell_type": "markdown",
   "metadata": {},
   "source": [
    "Таким образом, матрица $A$ имеет только два различных собственных значения. А в этом случае, как было рассмотрено на лекции, метод сопряжённых градиентов должен сходиться за $2$ итерации."
   ]
  },
  {
   "cell_type": "code",
   "execution_count": 125,
   "metadata": {},
   "outputs": [],
   "source": [
    "n = 1000\n",
    "u = np.random.random(n).reshape(-1,1)\n",
    "I = np.eye(n)\n",
    "A = I + u @ u.T"
   ]
  },
  {
   "cell_type": "code",
   "execution_count": 126,
   "metadata": {
    "scrolled": true
   },
   "outputs": [
    {
     "name": "stdout",
     "output_type": "stream",
     "text": [
      "Wall time: 8 ms\n"
     ]
    }
   ],
   "source": [
    "%%time\n",
    "\n",
    "b = A.dot(x_true)\n",
    "x = np.zeros(n)\n",
    "relative_mistake = 1\n",
    "r_i = b - A.dot(x)\n",
    "p_i = b - A.dot(x)\n",
    "norm_nevyazka_sopr_grad = [np.linalg.norm(r_i)]\n",
    "while (relative_mistake > 1e-05):   \n",
    "    alpha = (r_i @ p_i) / (A.dot(p_i) @ p_i)\n",
    "    x += alpha * p_i\n",
    "    r_i1 = b - A.dot(x)\n",
    "    beta = -(r_i1 @ A.dot(p_i)) / (A.dot(p_i) @ r_i)\n",
    "    p_i1 = r_i1 + beta * p_i\n",
    "    r_i = r_i1\n",
    "    p_i = p_i1\n",
    "    norm_nevyazka_sopr_grad.append(np.linalg.norm(r_i))\n",
    "    relative_mistake = np.linalg.norm(x - x_true) / mistake_0"
   ]
  },
  {
   "cell_type": "code",
   "execution_count": 128,
   "metadata": {},
   "outputs": [
    {
     "data": {
      "text/plain": [
       "3"
      ]
     },
     "execution_count": 128,
     "metadata": {},
     "output_type": "execute_result"
    }
   ],
   "source": [
    "len(norm_nevyazka_sopr_grad)"
   ]
  },
  {
   "cell_type": "markdown",
   "metadata": {},
   "source": [
    "Если не считать за итерацию объявление начального приближения, то получаем, что алгоритм как раз за $2$ итерации и сходится"
   ]
  },
  {
   "cell_type": "markdown",
   "metadata": {},
   "source": [
    "- (5 pts) Покажите, как связан детерминант матрицы\n",
    "$$\n",
    "\\begin{bmatrix}\n",
    "x & 1 & 0 & \\ldots & 0\\\\\n",
    "1 & 2x & 1 & \\ldots & 0 \\\\\n",
    "\\vdots & \\vdots & \\vdots & \\vdots & \\vdots \\\\\n",
    "0 & 0 & \\ldots & 2x & 1 \\\\\n",
    "0 & 0 & \\ldots & 1 & 2x\n",
    "\\end{bmatrix}\n",
    "$$\n",
    "\n",
    "с полиномом Чебышёва степени $n$"
   ]
  },
  {
   "cell_type": "markdown",
   "metadata": {},
   "source": [
    "Разложим определитель матрицы по последней строчке, тогда получим\n",
    "$$ I_n(x) =  2xI_{n-1}(x) - \\det\n",
    "\\begin{bmatrix}\n",
    "x & 1 & 0 & \\ldots & 0\\\\\n",
    "1 & 2x & 1 & \\ldots & 0 \\\\\n",
    "\\vdots & \\vdots & \\vdots & \\vdots & \\vdots \\\\\n",
    "0 & 0 & \\ldots & 2x & 0 \\\\\n",
    "0 & 0 & \\ldots & 0 & 1\n",
    "\\end{bmatrix}$$\n",
    "Для подсчёта полученного определителя матрицы $(n-1)\\times(n-1)$ разложим его по последнему столбцу, тогда получим\n",
    "$$ I_n(x) =  2xI_{n-1}(x) - I_{n-2}(x)$$\n",
    "Подсчитаем $I_1(x)$ и $I_2(x)$. $I_1(x) = x$, $I_2(x) = 2x^2-1$\n",
    "\n",
    "А для многочлена Чебышева верна такая же рукуррентная формула \n",
    "$$T_n(x) = 2x T_{n-1}(x) - T_{n-2}(x)$$ с такими же начальными значениями $$\\quad T_1(x)=x, \\quad T_2(x)=2x^2-1$$\n",
    "\n",
    "Отсюда в силу единственности решения рекуррентных формул при наличии начальных условий получаем, что $I_n(x) = T_n(x)$"
   ]
  },
  {
   "cell_type": "markdown",
   "metadata": {
    "slideshow": {
     "slide_type": "fragment"
    }
   },
   "source": [
    "## Задача 2 (20 pts)\n",
    "\n",
    "### Спектральное разбиение графа и обратная итерация\n",
    "\n",
    "\n",
    "Дан связный граф $G$ и соответствующий ему лапласиан $L = D - A$ с собственными значениями  $0=\\lambda_1, \\lambda_2, ..., \\lambda_n$, где $D$ диагональная матрица со степенями вершин на диагонали, а $A$ – матрица смежности.\n",
    "Вектор Фидлера – это собственный вектор, соответствующий собственному значению $\\lambda_2$ матрицы $L$. Этот вектор может быть использован для разбиения графа: положительные значения соответствуют одной части графа, отрицательные – другой."
   ]
  },
  {
   "cell_type": "markdown",
   "metadata": {},
   "source": [
    "### Метод обратной итерации\n",
    "\n",
    "Для поиска вектора Фидлера мы будем использовать метод Релея."
   ]
  },
  {
   "cell_type": "markdown",
   "metadata": {},
   "source": [
    "* (10 pts) Выпишите матрицу ортопроектора на подпространство ортогональное собственному вектору матрице $L$, соответствующему собственному значению $0$ и докажите (аналитически), что это действительно ортопроектор."
   ]
  },
  {
   "cell_type": "markdown",
   "metadata": {},
   "source": [
    "Для определённости того, степени исходящих или входящих вершин находятся в матрице $D$, считаем, что граф $G$ неориентированный. Это не повлияет на решение. \n",
    "\n",
    "В $i$-ой строчке матрицы $A$ находятся $1$ на местах вершин, которые связаны ребром с вершиной $i$. Суммы по строчкам в матрице $A$ - степени вершин графа $G$ (как и по столбцам), так как $A$ симметричная.\n",
    "\n",
    "Таким образом, у $L$ сумма по строчкам равна $0$, как и по столбцам. Отсюда собсвтенный вектор, удовлетворяющий собственному значению, равному $0$, - вектор из единиц $e$:\n",
    "\n",
    "$$Lx=0$$ \n",
    "$$L\\begin{pmatrix}1 \\\\  \\vdots \\\\ 1\\end{pmatrix}=\\begin{pmatrix}l_{11}+...+l_{1n} \\\\  \\vdots \\\\ l_{n1}+...+l_{nn}\\end{pmatrix}=\\begin{pmatrix}0 \\\\  \\vdots \\\\ 0\\end{pmatrix}$$\n",
    "\n",
    "Пространство $U$, ортогональное вектору $e$, - множество векторов, скалярное произведение которых с $e$ даёт $0$.\n",
    "\n",
    "То есть множество $\\{u=(u_1,u_2,...,u_n)\\in R^n: \\sum_{i=1}^{n}u_i=0\\}$\n",
    "\n",
    "По определению ортопроектор $P$ разбивает пространство $R^n$ в прямую сумму ортогональных подпространств $U$ и $V$. При этом $\\forall u\\in U,\\ v\\in V\\ P(u+v)=u$. $V$ - пространство, натянутое на вектор $e$.\n",
    "\n",
    "Отсюда $$\\forall i\\ \\sum_{j=1}^{n}p_{ij}(u_j+v_j)=\\{v=ce\\}=c\\sum_{j=1}^{n}p_{ij}+\\sum_{j=1}^{n}p_{ij}u_j=u_i$$\n",
    "\n",
    "Надо занулить первую сумму, а из второй сделать $u_i$\n",
    "\n",
    "По аналогии с построением матрицы $L$ на роль ортопроектора $P$ подходит разность единичной матрицы и матрицы из $\\frac{1}{n}$\n",
    "\n",
    "То ессть $$P=\n",
    "\\begin{pmatrix}\n",
    "1 & 0  & \\ldots & 0\\\\\n",
    "0 & 1  & \\ldots & 0\\\\\n",
    "\\vdots & \\vdots & \\vdots & \\vdots &  \\\\\n",
    "0 & 0 & \\ldots & 1 \\\\\n",
    "\\end{pmatrix} - \\frac{1}{n} \n",
    "\\begin{pmatrix}\n",
    "1 & 1  & \\ldots & 1\\\\\n",
    "1 & 1  & \\ldots & 1\\\\\n",
    "\\vdots & \\vdots & \\vdots & \\vdots &  \\\\\n",
    "1 & 1 & \\ldots & 1 \\\\\n",
    "\\end{pmatrix} = \\begin{pmatrix}\n",
    "1-\\frac{1}{n} & -\\frac{1}{n}  & \\ldots & -\\frac{1}{n}\\\\\n",
    "-\\frac{1}{n} & 1-\\frac{1}{n}  & \\ldots & -\\frac{1}{n}\\\\\n",
    "\\vdots & \\vdots & \\vdots & \\vdots &  \\\\\n",
    "-\\frac{1}{n} & -\\frac{1}{n} & \\ldots & 1-\\frac{1}{n} \\\\\n",
    "\\end{pmatrix}$$\n",
    "\n",
    "Для неё как раз $$c\\sum_{j=1}^{n}p_{ij}+\\sum_{j=1}^{n}p_{ij}u_j=0- \\frac{1}{n}\\sum_{j=1}^{n}u_j+u_i=u_i$$"
   ]
  },
  {
   "cell_type": "markdown",
   "metadata": {},
   "source": [
    "* (5 pts) Реализуйте функцию спектрального разделения графа ```partition```:"
   ]
  },
  {
   "cell_type": "markdown",
   "metadata": {},
   "source": [
    "Алгоритм должен останавливаться спустя `num_iter_fix + num_iter_adapt` итераций или если выполнено следующее соотношение\n",
    "\n",
    "$$ \\boxed{\\|\\lambda_k - \\lambda_{k-1}\\|_2 / \\|\\lambda_k\\|_2 \\leq \\varepsilon} \\text{ на некотором шаге } k.$$\n",
    "\n",
    "Не забудьте использовать ортогональную проекцию из задачи выше в итерационном процессе, чтобы получить верный собственный вектор.\n",
    "Также хорошей идеей могло быть использование ```shift=0``` до запуска адаптивного режима. Однако это невозможно в силу вырождннности матрицы $L$, а разреженное разложенное в ```scipy``` не работет в этом случае. Поэтому вместо нулевого сдвига предлагается использовать некоторое малое значение."
   ]
  },
  {
   "cell_type": "markdown",
   "metadata": {},
   "source": [
    "Реализуем метод обратной итерации для поиска вектора Фидлера (то есть с.в. соответствующий нулевому с.з., так как хотим таким образом разделить граф по разные стороны от нуля), при этом ускорив сходимость с помощью итераций Релея. Сначала сделаем некоторое число итераций простого метода обратной итерации, чтобы приблизить x_k к нужному собственному вектору\n",
    "\n",
    "$$x_{k+1} = (A - \\lambda_k I)^{-1} x_k,\\ x_{k+1} = \\frac{x_{k+1}}{||x_{k+1}||_2},$$\n",
    "\n",
    "а затем будем использовать итерацию Релея, суть которой заключается в выборе конкретного параметра сдвига на каждом шаге метода обратной итерации\n",
    "\n",
    "\n",
    "$$\\lambda_k = \\frac{(Ax_k, x_k)}{(x_k, x_k)}$$"
   ]
  },
  {
   "cell_type": "markdown",
   "metadata": {},
   "source": [
    "Чтобы получить именно нужный собственный вектор, не тот, который соответствует с.з. $0$, нужно воспользоваться ортопроектором $P$, найденным в предыдущем пункте. То есть проецировать получающийся с.в. вектор на подпространство, ортогональное подпространству, натянутому на с.в., соответствующий с. з. $0$. То есть будем искать с.в. , соответствующий минимальному по модулю с.з. там, где нет собственных векторов, соответствующих нулевому с.з. Таким образом, найдём именно с.в., соответствующий $\\lambda_2$."
   ]
  },
  {
   "cell_type": "code",
   "execution_count": 59,
   "metadata": {},
   "outputs": [],
   "source": [
    "import scipy.sparse.linalg as spsplin\n",
    "from scipy.sparse import csr_matrix"
   ]
  },
  {
   "cell_type": "code",
   "execution_count": 202,
   "metadata": {},
   "outputs": [],
   "source": [
    "# INPUT:\n",
    "# A - adjacency matrix (scipy.sparse.csr_matrix)\n",
    "# num_iter_fix - number of iterations with fixed shift (float)\n",
    "# shift - (float number)\n",
    "# num_iter_adapt - number of iterations with adaptive shift (int) -- Rayleigh quotient iteration steps\n",
    "# x0 - initial guess (1D numpy.ndarray)\n",
    "# OUTPUT:\n",
    "# x - normalized Fiedler vector (1D numpy.ndarray)\n",
    "# eigs - eigenvalue estimations at each step (1D numpy.ndarray)\n",
    "# eps - relative tolerance (float)\n",
    "\n",
    "def partition(A, shift, num_iter_fix, num_iter_adapt, x0, eps):\n",
    "    D = spsp.diags(np.asarray(np.sum(A, axis=0))[0])\n",
    "    L = D - A\n",
    "    x = x0.copy()\n",
    "    x = x / np.linalg.norm(x)\n",
    "    eigenval_k = np.random.random(1)[0] # зададим случайное начальное приближение для собственного значения\n",
    "    eigs = [eigenval_k]\n",
    "    relative_tolerance = []\n",
    "    for i in range(num_iter_fix):\n",
    "        x = spsplin.spsolve(L - shift * spsp.eye(A.shape[0]), x) # решаем систему уравнений на x_k+1 с правой частью x_k\n",
    "        x = x - np.ones(A.shape[0])*np.sum(x) / A.shape[0]       # проецируем\n",
    "        x = x / np.linalg.norm(x)\n",
    "        eigenval_k1 = x.dot(L.dot(x))\n",
    "        eigs.append(eigenval_k1)\n",
    "        relative_tolerance.append(np.linalg.norm(eigenval_k1 - eigenval_k)/np.linalg.norm(eigenval_k))\n",
    "        eigenval_k = eigenval_k1\n",
    "        if relative_tolerance[-1] <= eps:\n",
    "            return x, eigs, relative_tolerance\n",
    "    for i in range(num_iter_adapt):\n",
    "        shift = x.dot((L.dot(x))) \n",
    "        x = spsplin.spsolve(L - shift * spsp.eye(A.shape[0]), x) \n",
    "        x = x - np.ones(A.shape[0])*np.sum(x) / A.shape[0]\n",
    "        x = x / np.linalg.norm(x)\n",
    "        eigenval_k1 = x.dot(L.dot(x))\n",
    "        eigs.append(eigenval_k1)\n",
    "        relative_tolerance.append(np.linalg.norm(eigenval_k1 - eigenval_k)/np.linalg.norm(eigenval_k))\n",
    "        eigenval_k = eigenval_k1\n",
    "        if relative_tolerance[-1] <= eps:\n",
    "            return x, eigs, relative_tolerance\n",
    "    return x, eigs, relative_tolerance       "
   ]
  },
  {
   "cell_type": "markdown",
   "metadata": {},
   "source": [
    "* (3 pts) Сгенерируйте случайный `lollipop_graph`, используя библиотеку `networkx`, и найдите его разбиение. [Нарисуйте](https://networkx.github.io/documentation/networkx-1.9/examples/drawing/labels_and_colors.html) этот граф с вершинами, окрашенными в соответствии с разбиением.\n",
    "\n",
    "* (2 pts) Запустите метод со случайного начального приближение ```x0```, установите ```num_iter_fix=0``` и объясните, почему метод может сойтись к неверному собственному значению?"
   ]
  },
  {
   "cell_type": "code",
   "execution_count": 1,
   "metadata": {},
   "outputs": [],
   "source": [
    "import networkx as nx"
   ]
  },
  {
   "cell_type": "code",
   "execution_count": 51,
   "metadata": {},
   "outputs": [],
   "source": [
    "G = nx.lollipop_graph(10, 20)\n",
    "pos=nx.spring_layout(G)  # positions for all nodes"
   ]
  },
  {
   "cell_type": "code",
   "execution_count": 53,
   "metadata": {},
   "outputs": [
    {
     "data": {
      "image/png": "[encoded data removed]",
      "text/plain": [
       "<Figure size 720x720 with 1 Axes>"
      ]
     },
     "metadata": {},
     "output_type": "display_data"
    }
   ],
   "source": [
    "fig = plt.figure(figsize=(10, 10))\n",
    "nx.draw_networkx_edges(G, pos)\n",
    "nx.draw_networkx_nodes(G, pos,node_size=100)\n",
    "plt.show()"
   ]
  },
  {
   "cell_type": "code",
   "execution_count": 129,
   "metadata": {},
   "outputs": [],
   "source": [
    "A = nx.adjacency_matrix(G)"
   ]
  },
  {
   "cell_type": "markdown",
   "metadata": {},
   "source": [
    "Запустим алгоритм поиска вектора Фидлера"
   ]
  },
  {
   "cell_type": "code",
   "execution_count": 203,
   "metadata": {},
   "outputs": [],
   "source": [
    "x, eigs, eps = partition(A=A, shift = 1e-4, num_iter_fix = 5, num_iter_adapt=10, x0=np.ones(A.shape[0]), eps = 1e-12)"
   ]
  },
  {
   "cell_type": "markdown",
   "metadata": {},
   "source": [
    "Получим следующие результаты"
   ]
  },
  {
   "cell_type": "code",
   "execution_count": 204,
   "metadata": {},
   "outputs": [
    {
     "data": {
      "text/plain": [
       "array([ 0.19386087,  0.19386087,  0.19386087,  0.19386087,  0.19386087,\n",
       "        0.19386087,  0.19386087,  0.19386087,  0.19386087,  0.19139217,\n",
       "        0.16673659,  0.13995771,  0.11139656,  0.08141684,  0.05040032,\n",
       "        0.01874199, -0.01315501, -0.04488449, -0.07604239, -0.10623194,\n",
       "       -0.13506869, -0.16218542, -0.18723681, -0.20990386, -0.22989791,\n",
       "       -0.24696434, -0.26088583, -0.2714851 , -0.27862716, -0.28222108])"
      ]
     },
     "execution_count": 204,
     "metadata": {},
     "output_type": "execute_result"
    }
   ],
   "source": [
    "x"
   ]
  },
  {
   "cell_type": "code",
   "execution_count": 205,
   "metadata": {},
   "outputs": [
    {
     "data": {
      "text/plain": [
       "[0.08400900975272307,\n",
       " 0.013582571643055276,\n",
       " 0.012763568969166406,\n",
       " 0.01273561505922678,\n",
       " 0.012734452604105764,\n",
       " 0.0127344033047651,\n",
       " 0.012734401114602913,\n",
       " 0.01273440111460263]"
      ]
     },
     "execution_count": 205,
     "metadata": {},
     "output_type": "execute_result"
    }
   ],
   "source": [
    "eigs"
   ]
  },
  {
   "cell_type": "code",
   "execution_count": 206,
   "metadata": {},
   "outputs": [
    {
     "data": {
      "text/plain": [
       "[0.8383200601574164,\n",
       " 0.06029805661342656,\n",
       " 0.0021901327134405545,\n",
       " 9.127593097076818e-05,\n",
       " 3.871335674664368e-06,\n",
       " 1.7198781400360508e-07,\n",
       " 2.2204414957525596e-14]"
      ]
     },
     "execution_count": 206,
     "metadata": {},
     "output_type": "execute_result"
    }
   ],
   "source": [
    "eps"
   ]
  },
  {
   "cell_type": "markdown",
   "metadata": {},
   "source": [
    "Убедимся в том, что нашли то, что нужно"
   ]
  },
  {
   "cell_type": "code",
   "execution_count": 211,
   "metadata": {},
   "outputs": [],
   "source": [
    "D = spsp.diags(np.asarray(np.sum(A, axis=0))[0])\n",
    "L = D - A"
   ]
  },
  {
   "cell_type": "code",
   "execution_count": 214,
   "metadata": {},
   "outputs": [],
   "source": [
    "eigs_, _ = np.linalg.eig(L.toarray())"
   ]
  },
  {
   "cell_type": "code",
   "execution_count": 215,
   "metadata": {},
   "outputs": [
    {
     "data": {
      "text/plain": [
       "array([1.10113519e+01, 2.65412692e-16, 1.27344011e-02, 6.13435043e-02,\n",
       "       1.53180277e-01, 2.87674166e-01, 4.62007750e-01, 6.72247482e-01,\n",
       "       9.13584134e-01, 1.18046967e+00, 1.46674795e+00, 1.76579376e+00,\n",
       "       2.07066111e+00, 2.37423934e+00, 2.66941423e+00, 2.94923170e+00,\n",
       "       3.20706090e+00, 3.97633270e+00, 3.90591147e+00, 3.79046093e+00,\n",
       "       3.63279867e+00, 3.43675394e+00, 1.00000000e+01, 1.00000000e+01,\n",
       "       1.00000000e+01, 1.00000000e+01, 1.00000000e+01, 1.00000000e+01,\n",
       "       1.00000000e+01, 1.00000000e+01])"
      ]
     },
     "execution_count": 215,
     "metadata": {},
     "output_type": "execute_result"
    }
   ],
   "source": [
    "eigs_"
   ]
  },
  {
   "cell_type": "markdown",
   "metadata": {},
   "source": [
    "Да, всё правильно, здесь $\\lambda_2=1.2734e-02$ - именно то, которое нашёл алгоритм"
   ]
  },
  {
   "cell_type": "markdown",
   "metadata": {},
   "source": [
    "Построим разбиение графа. Положительные значения вектора Фидлера соответствуют одной части графа, отрицательные – другой."
   ]
  },
  {
   "cell_type": "code",
   "execution_count": 207,
   "metadata": {},
   "outputs": [
    {
     "data": {
      "image/png": "[encoded data removed]",
      "text/plain": [
       "<Figure size 720x720 with 1 Axes>"
      ]
     },
     "metadata": {},
     "output_type": "display_data"
    }
   ],
   "source": [
    "fig = plt.figure(figsize=(10, 10))\n",
    "nx.draw_networkx_edges(G, pos)\n",
    "nx.draw_networkx_nodes(G, pos,node_size=100, node_color=['r'] * len(x[x<0]) + ['b'] * len(x[x>0]))\n",
    "plt.show()"
   ]
  },
  {
   "cell_type": "markdown",
   "metadata": {},
   "source": [
    "Запустим метод со случайного начального приближения x0 и num_iter_fix=0"
   ]
  },
  {
   "cell_type": "code",
   "execution_count": 208,
   "metadata": {},
   "outputs": [],
   "source": [
    "x, eigs, eps = partition(A=A, shift = 1e-4, num_iter_fix = 0, num_iter_adapt=10, x0=np.random.random(A.shape[0]), eps = 1e-12)"
   ]
  },
  {
   "cell_type": "code",
   "execution_count": 200,
   "metadata": {},
   "outputs": [
    {
     "data": {
      "text/plain": [
       "array([-0.03160243, -0.03160243, -0.03160243, -0.03160243, -0.03160243,\n",
       "       -0.03160243, -0.03160243, -0.03160243, -0.03160243, -0.00273095,\n",
       "        0.25960732,  0.28477246,  0.049774  , -0.2306972 , -0.3004071 ,\n",
       "       -0.09566984,  0.19646986,  0.30911782,  0.13936064, -0.15771421,\n",
       "       -0.31070386, -0.17983939,  0.11532349,  0.30512866,  0.21617313,\n",
       "       -0.07027475, -0.29252072, -0.24752441,  0.02360628,  0.27317065])"
      ]
     },
     "execution_count": 200,
     "metadata": {},
     "output_type": "execute_result"
    }
   ],
   "source": [
    "x"
   ]
  },
  {
   "cell_type": "code",
   "execution_count": 209,
   "metadata": {},
   "outputs": [
    {
     "data": {
      "text/plain": [
       "[0.004018153329349405,\n",
       " 0.9906822749460585,\n",
       " 0.9215397375798664,\n",
       " 0.9135924891532455,\n",
       " 0.9135841339663437,\n",
       " 0.9135841339663355]"
      ]
     },
     "execution_count": 209,
     "metadata": {},
     "output_type": "execute_result"
    }
   ],
   "source": [
    "eigs"
   ]
  },
  {
   "cell_type": "code",
   "execution_count": 210,
   "metadata": {},
   "outputs": [
    {
     "data": {
      "text/plain": [
       "[245.5516354764052,\n",
       " 0.06979284793397243,\n",
       " 0.008623880341277318,\n",
       " 9.14541986825132e-06,\n",
       " 8.992768237510593e-15]"
      ]
     },
     "execution_count": 210,
     "metadata": {},
     "output_type": "execute_result"
    }
   ],
   "source": [
    "eps"
   ]
  },
  {
   "cell_type": "markdown",
   "metadata": {},
   "source": [
    "Видим, что метод сошёлся к неверному собственному значению, это связано с тем, что метод Релея зависит только от $x_0$, которое ему передаётся, в нём нельзя задать приближение к искомому собственному значению, кроме как с помощью начального приближения собственного вектора. Таким образом, вся сходимость определяется этим $x_0$, именно поэтому перед использованием метода Релея следует с помощью простого метода обратной итерации построить хоть какое-то приближение собственного вектора, соответствующее искомому  собственному значению."
   ]
  },
  {
   "cell_type": "markdown",
   "metadata": {
    "id": "ru70NGUlOGIy",
    "slideshow": {
     "slide_type": "fragment"
    }
   },
   "source": [
    "## Задача 3 (25 pts)\n",
    "\n",
    "## PageRank для DBLP\n",
    "\n",
    "\n",
    "#### Введение дэмпфирующего фактора\n",
    "\n",
    "* (5 pts) Напишите функцию ```pagerank_matrix(G)```, которая из поданной на вход матрицы смежности $G$ (в плотном или разреженном форматах) создаёт и возвращает матрицу PageRank'a $A$."
   ]
  },
  {
   "attachments": {
    "image-2.png": {
     "image/png": "[encoded data removed]"
    }
   },
   "cell_type": "markdown",
   "metadata": {},
   "source": [
    "![image-2.png](attachment:image-2.png)"
   ]
  },
  {
   "cell_type": "markdown",
   "metadata": {},
   "source": [
    "Напищем функцию для подсчёта матрицы $G$ на слайде, то есть матрицы $A$ в обозначениях задачи."
   ]
  },
  {
   "cell_type": "markdown",
   "metadata": {},
   "source": [
    "Считаем, что в $i$-ой строчке $j$-го столбца матрицы $G$ стоит $1$, если страница $i$ ссылается на страницу $j$, иначе $0$."
   ]
  },
  {
   "cell_type": "markdown",
   "metadata": {},
   "source": [
    "Таким образом, число ссылок, исходящих со страницы $j$ - сумма элементов в $j$-ой строчке маттрицы $G$."
   ]
  },
  {
   "cell_type": "markdown",
   "metadata": {},
   "source": [
    "На страницу $i$ ссылаются страницы, у которых в $i$-ом столбце стоит $1$."
   ]
  },
  {
   "cell_type": "markdown",
   "metadata": {},
   "source": [
    "Считаем, что на каждую страницу есть хотя бы $1$ ссылка, иначе ранк не определён. Также, хоть можно было обойтись и без этого, считаем, что из каждой страницы есть хотя бы одна ссылка, в противном случае не выполнялось бы условие, что у $G$ сумма элементов в каждом столбце равна $1$, были бы нулевые столбцы."
   ]
  },
  {
   "cell_type": "code",
   "execution_count": 6,
   "metadata": {},
   "outputs": [],
   "source": [
    "from scipy.sparse import diags\n",
    "from scipy.sparse import csr_matrix\n",
    "from scipy.sparse import csc_matrix"
   ]
  },
  {
   "cell_type": "code",
   "execution_count": 3,
   "metadata": {},
   "outputs": [],
   "source": [
    "# INPUT:  G - np.ndarray or sparse matrix\n",
    "# OUTPUT: A - np.ndarray (of size G.shape) or sparse matrix\n",
    "def pagerank_matrix(G):\n",
    "    if type(G) == np.ndarray:\n",
    "        return G.T / np.sum(G, axis = 1) \n",
    "    elif type(G) == csr_matrix:\n",
    "        return G.multiply(csr_matrix(1 / np.sum(G, axis = 1))).T\n",
    "    elif type(G) == csc_matrix:\n",
    "        return G.multiply(csr_matrix(1 / np.sum(G, axis = 1))).T\n",
    "    else: \n",
    "        print('incorrect matrix type')\n",
    "        return G"
   ]
  },
  {
   "cell_type": "markdown",
   "metadata": {},
   "source": [
    "На простом примере проверим, что реализация правильная. Пример взят по [ссылке](https://towardsdatascience.com/pagerank-algorithm-fully-explained-dc794184b4af)"
   ]
  },
  {
   "cell_type": "code",
   "execution_count": 38,
   "metadata": {},
   "outputs": [],
   "source": [
    "G = np.array([[0,0,1,1,1],\n",
    "              [0,0,0,0,1],\n",
    "              [0,1,0,1,0],\n",
    "              [0,1,0,0,0],\n",
    "              [1,1,1,0,0]])"
   ]
  },
  {
   "cell_type": "code",
   "execution_count": 40,
   "metadata": {},
   "outputs": [
    {
     "data": {
      "text/plain": [
       "array([[0.        , 0.        , 0.        , 0.        , 0.33333333],\n",
       "       [0.        , 0.        , 0.5       , 1.        , 0.33333333],\n",
       "       [0.33333333, 0.        , 0.        , 0.        , 0.33333333],\n",
       "       [0.33333333, 0.        , 0.5       , 0.        , 0.        ],\n",
       "       [0.33333333, 1.        , 0.        , 0.        , 0.        ]])"
      ]
     },
     "execution_count": 40,
     "metadata": {},
     "output_type": "execute_result"
    }
   ],
   "source": [
    "pagerank_matrix(G)"
   ]
  },
  {
   "attachments": {
    "image.png": {
     "image/png": "[encoded data removed]"
    }
   },
   "cell_type": "markdown",
   "metadata": {},
   "source": [
    "![image.png](attachment:image.png)"
   ]
  },
  {
   "cell_type": "markdown",
   "metadata": {},
   "source": [
    "Видим, что алгоритм отработал правильно"
   ]
  },
  {
   "cell_type": "markdown",
   "metadata": {
    "id": "ru70NGUlOGIy",
    "slideshow": {
     "slide_type": "fragment"
    }
   },
   "source": [
    "* (5 pts) Реализуйте степенной метод для заданной матрицы $A$, начального вектора $x_0$ и числа итераций```num_iter``` в соответствии с прототипом ниже. Функция возвращает оценку собственного вектора, собственного значения и нормы невязки при сходимости. Проверьте, что ваша реализация сходится для матрицы $\\begin{bmatrix} 2 & -1 \\\\ -1 & 2 \\end{bmatrix}$."
   ]
  },
  {
   "cell_type": "code",
   "execution_count": 7,
   "metadata": {
    "id": "ru70NGUlOGIy",
    "slideshow": {
     "slide_type": "fragment"
    }
   },
   "outputs": [],
   "source": [
    "# INPUT:  A - np.ndarray (2D), x0 - np.ndarray (1D), num_iter - integer (positive)\n",
    "# OUTPUT: x - np.ndarray (of size x0), l - float, res - np.ndarray (of size num_iter + 1 [include initial guess])\n",
    "def power_method(A, x0, num_iter): # 5 pts\n",
    "    x = x0.copy()\n",
    "    x = x / np.linalg.norm(x)\n",
    "    l = x @ (A @ x)\n",
    "    res = [np.linalg.norm(A @ x - l * x)]\n",
    "    for i in range(num_iter):\n",
    "        x = A @ x\n",
    "        x = x / np.linalg.norm(x)\n",
    "        l = x @ (A @ x)\n",
    "        nevyazka = np.linalg.norm(A @ x - l * x)\n",
    "        res.append(nevyazka)\n",
    "    return x, l, res"
   ]
  },
  {
   "cell_type": "code",
   "execution_count": 8,
   "metadata": {},
   "outputs": [],
   "source": [
    "eigvec, eigval, nevyazka = power_method(A=np.array([[2, -1], [-1, 2]]), x0=np.random.random(2), num_iter=40)"
   ]
  },
  {
   "cell_type": "code",
   "execution_count": 9,
   "metadata": {},
   "outputs": [
    {
     "data": {
      "text/plain": [
       "3.0"
      ]
     },
     "execution_count": 9,
     "metadata": {},
     "output_type": "execute_result"
    }
   ],
   "source": [
    "eigval"
   ]
  },
  {
   "cell_type": "code",
   "execution_count": 113,
   "metadata": {},
   "outputs": [
    {
     "data": {
      "image/png": "[encoded data removed]",
      "text/plain": [
       "<Figure size 720x576 with 1 Axes>"
      ]
     },
     "metadata": {
      "needs_background": "light"
     },
     "output_type": "display_data"
    }
   ],
   "source": [
    "plt.figure(figsize=(10,8))\n",
    "plt.plot(range(41), nevyazka, label = 'Residuals')\n",
    "plt.xlabel(\"iteration\", fontsize=22)\n",
    "plt.ylabel(\"||Ax_k-lambda_kx_k||_2\", fontsize=22)\n",
    "plt.grid(True)\n",
    "plt.xticks(fontsize=16)\n",
    "plt.yticks(fontsize=16)\n",
    "plt.show()"
   ]
  },
  {
   "cell_type": "markdown",
   "metadata": {},
   "source": [
    "Видим, что степенной метод достаточно быстро сошёлся к нужному собственному значению $3$."
   ]
  },
  {
   "cell_type": "markdown",
   "metadata": {
    "id": "ru70NGUlOGIy",
    "slideshow": {
     "slide_type": "fragment"
    }
   },
   "source": [
    "Для избежания проблем со сходимостью степенного метода, обсуждённых на семинаре, можно ввести дэмпфирующий фактор и преобразовать матрицу PageRank'a следующим образом:\n",
    "\n",
    "$$\n",
    "A_d = dA + \\frac{1-d}{N} \\begin{pmatrix} 1 & \\dots & 1 \\\\ \\vdots & & \\vdots \\\\ 1 & \\dots & 1 \\end{pmatrix},\n",
    "$$\n",
    "\n",
    "где $d$ малый параметр из отрезка $[0,1]$ (обычно $d=0.85$), который называется **демпфирующим фактором**, $A$ размера $N\\times N$. После такого преобразования максимальное собственное значение матрицы $A_d$ обладает кратностью равной 1. \n",
    "\n",
    "Именно это [предложили](http://ilpubs.stanford.edu:8090/422/1/1999-66.pdf) сделать Ларри Пейдж и Сергей Брин для получения своего алгоритма ранжирвания веб-страниц.\n",
    "\n",
    "\n",
    "* (4 pts) Реализуйте функцию быстрого умножения матрицы $A_d$ на вектор в соответствии с прототипом ниже ```pagerank_matvec(A, d, x)```. На вход функция принимает  матрицу PageRank'a $A$ (в разреженном формате, например ```csr_matrix```), демпфирующий фактор $d$ и начальный вектор $x$, а возвращает $A_dx$. "
   ]
  },
  {
   "cell_type": "code",
   "execution_count": 49,
   "metadata": {},
   "outputs": [],
   "source": [
    "# INPUT:  A - np.ndarray (2D), d - float (from 0.0 to 1.0), x - np.ndarray (1D, size of A.shape[0/1])\n",
    "# OUTPUT: y - np.ndarray (1D, size of x)\n",
    "def pagerank_matvec(A, d, x): # 2 pts\n",
    "    y = d * A.dot(x) + (1 - d) * np.ones(A.shape[1]) * np.sum(x) / A.shape[1]\n",
    "    return y"
   ]
  },
  {
   "cell_type": "markdown",
   "metadata": {},
   "source": [
    "* (2 pts) Сгенерируйте случайную матрицу смежности $1000 \\times 1000$ (если помещается в память, то увеличьте размер до $10000 \\times 10000$) со 100 ненулевыми элементами и сравните время вычисления произведения матрицы и случайного вектора с помощью ```pagerank_matvec``` и явным вычислением $A_dx$."
   ]
  },
  {
   "cell_type": "code",
   "execution_count": 19,
   "metadata": {},
   "outputs": [],
   "source": [
    "d = 0.85\n",
    "A = spsp.random(1000, 1000, 10**-4)\n",
    "A = csr_matrix(A)\n",
    "x = np.random.random(1000)"
   ]
  },
  {
   "cell_type": "code",
   "execution_count": 20,
   "metadata": {},
   "outputs": [
    {
     "name": "stdout",
     "output_type": "stream",
     "text": [
      "42.5 µs ± 3.54 µs per loop (mean ± std. dev. of 7 runs, 10000 loops each)\n",
      "1.86 ms ± 85 µs per loop (mean ± std. dev. of 7 runs, 1000 loops each)\n"
     ]
    }
   ],
   "source": [
    "A_d = d * A + (1 - d) * csr_matrix(np.ones((A.shape[1], A.shape[1]))) / A.shape[1]\n",
    "\n",
    "%timeit pagerank_matvec(A, d, x)\n",
    "%timeit A_d.dot(x)"
   ]
  },
  {
   "cell_type": "markdown",
   "metadata": {},
   "source": [
    "Видим, насколько реализованное быстрое умножение матрицы $A_d$ на вектор лучше наивного"
   ]
  },
  {
   "cell_type": "markdown",
   "metadata": {
    "id": "ru70NGUlOGIy",
    "slideshow": {
     "slide_type": "fragment"
    }
   },
   "source": [
    "  Загрузите данные [отсюда](https://goo.gl/oZVxEa), разархивируйте и поместите файлы `dblp_authors.npz`  и `dblp_graph.npz` в папку рядом с этим ноутбуком. Каждое значение (имя автора) из `dblp_authors.npz` соответствует строке/столбцу в матрице из  `dblp_graph.npz`. Значения в строке `i` и столбце `j` матрицы `dblp_graph.npz` соответствуют числу раз, которое автор `i` цитировал статьи автора `j`. Давайте теперь найдём наиболее влиятельных авторов по величине Pagerank'a на основе данных DBLP.\n",
    "\n",
    "* (5 pts) Загрузите взвешенную матрицу смежности и список авторов с помощью функции ```load_dblp(...)```. Выведите её плотность, то есть отношение числа ненулевых элементов к общему числу элементов. Найдите top-10 наиболее цитируемых авторов по значениям элементов этой матрицы. Далее сделайте все элементы равными 1 для простоты. Получите матрицу Pagerank'a из матрицы смежности и проверьте её стохастичность (сумма элементов по строкам/столбцам равна 1).\n",
    " \n",
    "* (1 pts) Для того чтобы передать функцию ```pagerank_matvec``` в функцию ```power_method``` для быстрого вычисления матрично-векторного произведения $A_dx$, вы можете сделать ```LinearOperator```: \n",
    "```python\n",
    "L = scipy.sparse.linalg.LinearOperator(A.shape, matvec=lambda x, A=A, d=d: pagerank_matvec(A, d, x))\n",
    "```\n",
    "Вызов ```L@x``` или ```L.dot(x)``` будет реализован путём вызова функции ```pagerank_matvec(A, d, x)```, таким образом, вы можете передать $L$ вместо матрицы $A$ в функцию ```power_method``` напрямую.\n",
    "\n",
    "\n",
    "* (2 pts) Запустите степенной метод начиная с вектора из всех 1 и нарисуйте норму невязок $\\|A_dx_k - \\lambda_k x_k\\|_2$  как функцию от $k$ для $d=0.85$.\n",
    "\n",
    "\n",
    "* (1 pts) Выведите имена top-10 авторов по величине PageRank'a на основании графа DBLP с $d=0.85$. Прокомментируйте результат и сарвните его со списком наиболее цитируемых авторов."
   ]
  },
  {
   "cell_type": "code",
   "execution_count": 4,
   "metadata": {
    "id": "L5ZnW7m-OGIz"
   },
   "outputs": [],
   "source": [
    "from scipy.sparse import load_npz\n",
    "import numpy as np\n",
    "def load_dblp(path_auth, path_graph):\n",
    "    G = load_npz(path_graph).astype(float)\n",
    "    with np.load(path_auth) as data: authors = data['authors']\n",
    "    return G, authors\n",
    "G, authors = load_dblp('dblp_authors.npz', 'dblp_graph.npz')"
   ]
  },
  {
   "cell_type": "markdown",
   "metadata": {},
   "source": [
    "Подсчитаем плотность матрицы смежности $G$"
   ]
  },
  {
   "cell_type": "code",
   "execution_count": 5,
   "metadata": {},
   "outputs": [
    {
     "data": {
      "text/plain": [
       "4.4986518152305776e-05"
      ]
     },
     "execution_count": 5,
     "metadata": {},
     "output_type": "execute_result"
    }
   ],
   "source": [
    "G.nnz / (G.shape[0] * G.shape[1])"
   ]
  },
  {
   "cell_type": "markdown",
   "metadata": {},
   "source": [
    "Найдём top-10 наиболее цитируемых авторов"
   ]
  },
  {
   "cell_type": "code",
   "execution_count": 6,
   "metadata": {},
   "outputs": [],
   "source": [
    "in_degrees = np.asarray(np.sum(G, axis=0))[0]\n",
    "sorted_indexes = np.argsort(in_degrees)\n",
    "best_authors = authors[sorted_indexes[-10:]]\n",
    "best_scores = in_degrees[sorted_indexes[-10:]]"
   ]
  },
  {
   "cell_type": "code",
   "execution_count": 7,
   "metadata": {},
   "outputs": [
    {
     "name": "stdout",
     "output_type": "stream",
     "text": [
      "Scott Shenker 119853.0\n",
      "Andrew Zisserman 118558.0\n",
      "Hari Balakrishnan 117253.0\n",
      "Jiawei Han 116708.0\n",
      "Anil K. Jain 113874.0\n",
      "Cordelia Schmid 102996.0\n",
      "Jitendra Malik 101657.0\n",
      "Ion Stoica 98017.0\n",
      "David E. Culler 95762.0\n",
      "David G. Lowe 93678.0\n"
     ]
    }
   ],
   "source": [
    "for i in range(9,-1,-1):\n",
    "    print(best_authors[i], best_scores[i])"
   ]
  },
  {
   "cell_type": "markdown",
   "metadata": {},
   "source": [
    "Сделаем для простоты все ненулевые элементы матрицы $G$ единицами. Получим матрицу Pagerank'a из матрицы смежности и проверим факт, что сумма элементов по столбцам равна 1, предварительно удалив авторов, на которых никто не ссылается, так как для них ранг не определён, и авторов, которые ни на кого не ссылаются, иначе в матрице Pagerank'a были бы нулевые столбцы, так как ранги таких авторов не участвуют в формировании рангов других авторов."
   ]
  },
  {
   "cell_type": "code",
   "execution_count": 8,
   "metadata": {},
   "outputs": [],
   "source": [
    "G.data[:] = 1\n",
    "in_degrees = np.asarray(np.sum(G, axis=0))[0]\n",
    "G = G[~(in_degrees == 0),:][:,~(in_degrees == 0)]\n",
    "\n",
    "out_degrees = np.asarray(np.sum(G, axis=1)).reshape(-1)\n",
    "G = G[~(out_degrees == 0),:][:,~(out_degrees == 0)]"
   ]
  },
  {
   "cell_type": "code",
   "execution_count": 65,
   "metadata": {},
   "outputs": [],
   "source": [
    "authors = authors[~(in_degrees == 0)][~(out_degrees == 0)]"
   ]
  },
  {
   "cell_type": "code",
   "execution_count": 10,
   "metadata": {},
   "outputs": [
    {
     "name": "stderr",
     "output_type": "stream",
     "text": [
      "<ipython-input-3-0fee08af85d4>:7: RuntimeWarning: divide by zero encountered in true_divide\n",
      "  return G.multiply(csr_matrix(1 / np.sum(G, axis = 1))).T\n"
     ]
    }
   ],
   "source": [
    "A = pagerank_matrix(G)"
   ]
  },
  {
   "cell_type": "code",
   "execution_count": 11,
   "metadata": {},
   "outputs": [],
   "source": [
    "del G"
   ]
  },
  {
   "cell_type": "code",
   "execution_count": 42,
   "metadata": {},
   "outputs": [
    {
     "data": {
      "text/plain": [
       "matrix([[1., 1., 1., ..., 1., 1., 1.]])"
      ]
     },
     "execution_count": 42,
     "metadata": {},
     "output_type": "execute_result"
    }
   ],
   "source": [
    "np.sum(A, axis = 0)"
   ]
  },
  {
   "cell_type": "markdown",
   "metadata": {},
   "source": [
    "Да, действительно, полученная матрица Pagerank'a является левостохастической"
   ]
  },
  {
   "cell_type": "markdown",
   "metadata": {},
   "source": [
    "Применим степенной метод для полученной матрицы $A$, используя реализованное быстрое умножение матрицы $A_d$"
   ]
  },
  {
   "cell_type": "code",
   "execution_count": 46,
   "metadata": {},
   "outputs": [],
   "source": [
    "import scipy.sparse.linalg"
   ]
  },
  {
   "cell_type": "code",
   "execution_count": 50,
   "metadata": {},
   "outputs": [],
   "source": [
    "d = 0.85\n",
    "L = scipy.sparse.linalg.LinearOperator(A.shape, matvec=lambda x, A=A, d=d: pagerank_matvec(A, d, x)) \n",
    "# в степенном методе везде A @ x заменится на быстрое умножение A_d на x"
   ]
  },
  {
   "cell_type": "code",
   "execution_count": 56,
   "metadata": {},
   "outputs": [],
   "source": [
    "eigvec, eigval, nevyazka = power_method(A=L, x0=np.ones(A.shape[0]), num_iter=10)"
   ]
  },
  {
   "cell_type": "code",
   "execution_count": 60,
   "metadata": {},
   "outputs": [
    {
     "data": {
      "text/plain": [
       "1.0002494763909793"
      ]
     },
     "execution_count": 60,
     "metadata": {},
     "output_type": "execute_result"
    }
   ],
   "source": [
    "eigval"
   ]
  },
  {
   "cell_type": "code",
   "execution_count": 59,
   "metadata": {},
   "outputs": [
    {
     "data": {
      "image/png": "[encoded data removed]",
      "text/plain": [
       "<Figure size 720x576 with 1 Axes>"
      ]
     },
     "metadata": {
      "needs_background": "light"
     },
     "output_type": "display_data"
    }
   ],
   "source": [
    "plt.figure(figsize=(10,8))\n",
    "plt.plot(range(11), nevyazka, label = 'Residuals')\n",
    "plt.xlabel(\"iteration\", fontsize=22)\n",
    "plt.ylabel(\"||A_dx_k-lambda_kx_k||_2\", fontsize=22)\n",
    "plt.grid(True)\n",
    "plt.xticks(fontsize=16)\n",
    "plt.yticks(fontsize=16)\n",
    "plt.show()"
   ]
  },
  {
   "cell_type": "markdown",
   "metadata": {},
   "source": [
    "Выведем имена top-10 авторов по величине PageRank'a на основании графа DBLP с $d=0.85$. Сравним результат со списком наиболее цитируемых авторов."
   ]
  },
  {
   "cell_type": "markdown",
   "metadata": {},
   "source": [
    "Заметим, что степенной метод как раз сходится к вектору рангов авторов"
   ]
  },
  {
   "cell_type": "code",
   "execution_count": 72,
   "metadata": {},
   "outputs": [],
   "source": [
    "top_PageRank = np.argsort(eigvec)[-10:][::-1]\n",
    "top_authors_PageRank = authors[np.argsort(eigvec)[-10:][::-1]]"
   ]
  },
  {
   "cell_type": "code",
   "execution_count": 73,
   "metadata": {},
   "outputs": [
    {
     "name": "stdout",
     "output_type": "stream",
     "text": [
      "David E. Goldberg 207967\n",
      "Richard M. Karp 809825\n",
      "Azriel Rosenfeld 93689\n",
      "John E. Hopcroft 463529\n",
      "Ronald L. Rivest 826078\n",
      "Anil K. Jain 66833\n",
      "Takeo Kanade 939899\n",
      "Alfred V. Aho 39826\n",
      "Robert Endre Tarjan 814950\n",
      "Gerard Salton 314824\n"
     ]
    }
   ],
   "source": [
    "for i in range(10):\n",
    "    print(top_authors_PageRank[i], top_PageRank[i])"
   ]
  },
  {
   "cell_type": "markdown",
   "metadata": {},
   "source": [
    "Заметим, что в двух списках только $1$ общий автор Anil K. Jain"
   ]
  },
  {
   "cell_type": "markdown",
   "metadata": {},
   "source": [
    "То есть если автора часто цитируют, то это не всегда означает, что он особо выдающийся. Нужно брать во внимание, кто именно на этого автора ссылается, насколько их мнение авторитетно. Выбранный подход для подсчёта PageRank'a как раз это учитывает."
   ]
  },
  {
   "cell_type": "markdown",
   "metadata": {},
   "source": [
    "## Решение треугольных разреженных систем (30 pts)\n",
    "\n",
    "В этой задаче рассмотрим более детально методы решения треугольных (нижне или верхне) линейных систем при условии, что матрицы этих систем разрежены. С этой задачей вы столкнётесь после того, как выполните разреженное LU разложение и получите желаемые *разреженные* треугольные факторы.\n",
    "\n",
    "- (5 pts) Реализуйте классический метод решения треугольной линейной системы, однако учтите, что матрица у вас разреженная. Какой формат хранения разреженной матрицы будет предпочтительным для такого метода решения?\n",
    "\n",
    "- (10 pts) В пункте выше не предполагались никакие специфичные свойства правой части. Однако если предположить, что правая часть является разреженным вектором, то можно предложить более эффективный метод решения такой линейной системы. Основная идея состоит в том, чтобы преобразовать метод из предыдущего пункта из построчного заполнения решения в итерирование по **столбцам** матрицы и соответствующего обновления решения. Какой формат хранения матриы является предпочтительным для такого метода решения? Перепишите метод из предыдущего пункта, так чтобы итерирование происходило по столбцам матрицы, и реализуйте его.\n",
    "\n",
    "- (15 pts) Дальнейшим развитием является предположение, что помимо разреженной правой части **само решения** также является разреженным. В этом случае можно дополнительно ускорить метод, если рассматривать не все столбцы матрицы, а только те, что действительно влияют на заполненность решения. Для определения таких столбцов необходимо выяснить какие элементы решения окажутся ненулевыми, если в правой части есть ненулевой элемент на позиции $i$? Для ответа на этот вопрос вам поможет графовая интерпретация разреженной матрицы и понятие топологической сортировки. Реализуйте метод решения треугольной разреженной системы в таких предположениях.\n",
    "\n",
    "- (10 pts) Проведите сравнение реализованных выше методов на разреженных треугольных (верхне и нижне) матрицах и правых частях удовлестворяющих перечисленным выше свойствам. Экспериментально проверьте, в каких случаях, какой метод является предпочтительным. Приведите теоретическую оценку сложности каждого из методов."
   ]
  },
  {
   "cell_type": "code",
   "execution_count": 3,
   "metadata": {},
   "outputs": [],
   "source": [
    "# Example of triangular sparse matrix generation\n",
    "import numpy as np\n",
    "import scipy.sparse as spsp\n",
    "import scipy.sparse.linalg as spsplin\n",
    "import matplotlib.pyplot as plt"
   ]
  },
  {
   "cell_type": "code",
   "execution_count": 30,
   "metadata": {},
   "outputs": [
    {
     "data": {
      "image/png": "[encoded data removed]",
      "text/plain": [
       "<Figure size 432x288 with 1 Axes>"
      ]
     },
     "metadata": {
      "needs_background": "light"
     },
     "output_type": "display_data"
    },
    {
     "data": {
      "image/png": "[encoded data removed]",
      "text/plain": [
       "<Figure size 432x288 with 1 Axes>"
      ]
     },
     "metadata": {
      "needs_background": "light"
     },
     "output_type": "display_data"
    },
    {
     "data": {
      "image/png": "[encoded data removed]",
      "text/plain": [
       "<Figure size 432x288 with 1 Axes>"
      ]
     },
     "metadata": {
      "needs_background": "light"
     },
     "output_type": "display_data"
    }
   ],
   "source": [
    "n = 700\n",
    "A = spsp.rand(n, n, density=0.005).tocsc()\n",
    "plt.spy(A, markersize=1)\n",
    "plt.show()\n",
    "L = spsp.tril(A) + spsp.eye(n)\n",
    "U = spsp.triu(A) + spsp.eye(n)\n",
    "plt.spy(L, markersize=1)\n",
    "plt.show()\n",
    "plt.spy(U, markersize=1)\n",
    "plt.show()"
   ]
  },
  {
   "cell_type": "code",
   "execution_count": null,
   "metadata": {},
   "outputs": [],
   "source": [
    "# Место для Вашего решения"
   ]
  }
 ],
 "metadata": {
  "kernelspec": {
   "display_name": "Python 3",
   "language": "python",
   "name": "python3"
  },
  "language_info": {
   "codemirror_mode": {
    "name": "ipython",
    "version": 3
   },
   "file_extension": ".py",
   "mimetype": "text/x-python",
   "name": "python",
   "nbconvert_exporter": "python",
   "pygments_lexer": "ipython3",
   "version": "3.8.8"
  }
 },
 "nbformat": 4,
 "nbformat_minor": 2
}
